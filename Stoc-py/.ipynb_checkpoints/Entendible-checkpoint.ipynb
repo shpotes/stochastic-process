{
 "cells": [
  {
   "cell_type": "code",
   "execution_count": 3,
   "metadata": {},
   "outputs": [],
   "source": [
    "import numpy as np"
   ]
  },
  {
   "cell_type": "code",
   "execution_count": 4,
   "metadata": {},
   "outputs": [],
   "source": [
    "\"\"\" Arbitrary Parameters\n",
    "    r     : Tasa de interes libre de riesgo\n",
    "    sigma : Volatilidad\n",
    "    K     : Precio de ejercicio\n",
    "\"\"\"\n",
    "r = 0.05; \n",
    "sigma = 0.2; \n",
    "K = 100; "
   ]
  },
  {
   "cell_type": "code",
   "execution_count": 43,
   "metadata": {},
   "outputs": [],
   "source": [
    "\"\"\" Initial Conditions\n",
    "    S_0   : Valor de accion en tiempo actual\n",
    "    S_max : Cota superior de la accion\n",
    "    dS    : Tamaño de intervalos del precio\n",
    "    M     : Intervalos del precio\n",
    "    T     : Tiempo de muestreo\n",
    "    N     : Intervalos del tiempo\n",
    "    dT    : Tamaños de intervalos del tiempo\n",
    "\"\"\"\n",
    "\n",
    "S_0 = 100\n",
    "S_max = 2*S_0 \n",
    "dS = 5 # dS = 2, dS = 5..   \n",
    "M = S_max//dS\n",
    "T = 1/12\n",
    "dT_tmp = (dS/(sigma*S_max))**2\n",
    "N_tmp = T/dT_tmp\n",
    "N = int(np.ceil(N_tmp))\n",
    "dT = T/N;"
   ]
  },
  {
   "cell_type": "code",
   "execution_count": 44,
   "metadata": {},
   "outputs": [],
   "source": [
    "# Ponderación\n",
    "a = np.zeros(M+1);\n",
    "b = np.zeros(M+1);\n",
    "c = np.zeros(M+1);\n",
    "sum_j = np.zeros(M+1);\n",
    "for j in range(M):\n",
    "    a[j] = (dT/(1+r*dT)) * ((sigma**2 * j**2)/2 - (r * j/2));\n",
    "    b[j] = (dT/(1+r*dT)) * ((1/dT) - sigma**2 * j**2);\n",
    "    c[j] = (dT/(1+r*dT)) * ((sigma**2 * j**2)/2 + (r * j/2));\n",
    "    sum_j[j] = a[j] + b[j] + c[j];"
   ]
  },
  {
   "cell_type": "code",
   "execution_count": 45,
   "metadata": {},
   "outputs": [],
   "source": [
    "# Vector de incrementos de s\n",
    "vect_S = np.arange(0, S_max+1, dS);\n",
    "\n",
    "# Crear Malla F\n",
    "F = np.zeros((N+1, M+1));\n",
    "\n",
    "# Condiciones de frontera\n",
    "F[:,0] = max(-K, 0);\n",
    "\n",
    "for j in range(M):\n",
    "    F[N, j] = max(j*dS - K, 0);\n",
    "\n",
    "\n",
    "F[:, M] = max(S_max - K, 0);\n",
    "\n",
    "# Llenar Malla\n",
    "for i in reversed(range(N)):\n",
    "    for j in range(1, M):\n",
    "        F[i,j] = a[j-1] * F[i+1, j-1] + b[j-1] * F[i+1, j] + c[j-1] * F[i+1, j+1];"
   ]
  },
  {
   "cell_type": "code",
   "execution_count": 46,
   "metadata": {},
   "outputs": [
    {
     "data": {
      "text/plain": [
       "2.170893381733618"
      ]
     },
     "execution_count": 46,
     "metadata": {},
     "output_type": "execute_result"
    }
   ],
   "source": [
    "# Stuff\n",
    "P = S_0//dS;\n",
    "FF = F[0,P]\n",
    "FF"
   ]
  }
 ],
 "metadata": {
  "kernelspec": {
   "display_name": "Python 3",
   "language": "python",
   "name": "python3"
  },
  "language_info": {
   "codemirror_mode": {
    "name": "ipython",
    "version": 3
   },
   "file_extension": ".py",
   "mimetype": "text/x-python",
   "name": "python",
   "nbconvert_exporter": "python",
   "pygments_lexer": "ipython3",
   "version": "3.5.2"
  }
 },
 "nbformat": 4,
 "nbformat_minor": 2
}
