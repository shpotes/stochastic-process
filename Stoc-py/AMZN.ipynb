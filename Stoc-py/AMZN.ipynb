{
 "cells": [
  {
   "cell_type": "markdown",
   "metadata": {},
   "source": [
    "# Valoración de opciones de compra europeas utilizando la fórmula Black-Scholes aplicada a acciones de Amazon\n",
    "\n",
    "#### Por:\n",
    "* Santiago Hincapie\n",
    "* Sarah Henao\n",
    "* Luisa Londoño"
   ]
  },
  {
   "cell_type": "markdown",
   "metadata": {},
   "source": [
    "## Analisis cuantitativo"
   ]
  },
  {
   "cell_type": "code",
   "execution_count": 1,
   "metadata": {},
   "outputs": [],
   "source": [
    "import pandas as pd\n",
    "import numpy as np\n",
    "import matplotlib.pyplot as plt\n",
    "import plotly.plotly as py # download_plotlyjs, init_notebook_mode, plot, iplot\n",
    "import plotly.offline as off\n",
    "import plotly.graph_objs as go\n",
    "import plotly.figure_factory as FF\n",
    "\n",
    "#py.offline.init_notebook_mode(connected=True)\n",
    "\n",
    "from scipy import stats\n",
    "from datetime import datetime\n",
    "from statsmodels.graphics.tsaplots import plot_pacf"
   ]
  },
  {
   "cell_type": "code",
   "execution_count": 2,
   "metadata": {},
   "outputs": [],
   "source": [
    "df = pd.read_csv('../data/NASDAQ:AMZN.csv')\n",
    "df.Dates = df.Dates.map(lambda x: datetime.strptime(x, '%m/%d/%Y'))"
   ]
  },
  {
   "cell_type": "code",
   "execution_count": 3,
   "metadata": {},
   "outputs": [
    {
     "data": {
      "text/html": [
       "<iframe id=\"igraph\" scrolling=\"no\" style=\"border:none;\" seamless=\"seamless\" src=\"https://plot.ly/~shpotes3/112.embed\" height=\"525px\" width=\"100%\"></iframe>"
      ],
      "text/plain": [
       "<plotly.tools.PlotlyDisplay object>"
      ]
     },
     "execution_count": 3,
     "metadata": {},
     "output_type": "execute_result"
    }
   ],
   "source": [
    "py.iplot([go.Scatter(\n",
    "            x=df.Dates,\n",
    "            y=df.PX_LAST)])"
   ]
  },
  {
   "cell_type": "code",
   "execution_count": 4,
   "metadata": {},
   "outputs": [
    {
     "data": {
      "text/html": [
       "<iframe id=\"igraph\" scrolling=\"no\" style=\"border:none;\" seamless=\"seamless\" src=\"https://plot.ly/~shpotes3/106.embed\" height=\"525px\" width=\"100%\"></iframe>"
      ],
      "text/plain": [
       "<plotly.tools.PlotlyDisplay object>"
      ]
     },
     "execution_count": 4,
     "metadata": {},
     "output_type": "execute_result"
    }
   ],
   "source": [
    "py.iplot([go.Scatter(\n",
    "           x=df.index,\n",
    "           y=df.Returns)])"
   ]
  },
  {
   "cell_type": "code",
   "execution_count": 5,
   "metadata": {},
   "outputs": [
    {
     "data": {
      "image/png": "[encoded data removed]",
      "text/plain": [
       "<Figure size 432x288 with 2 Axes>"
      ]
     },
     "metadata": {},
     "output_type": "display_data"
    }
   ],
   "source": [
    "f, axarr = plt.subplots(1, 2)\n",
    "axarr[1].hist(df.Returns)\n",
    "axarr[1].set_title(\"Histogram\")\n",
    "stats.probplot(df.Returns, plot=axarr[0])\n",
    "plt.rcParams[\"figure.figsize\"] = (6, 3)\n",
    "plt.savefig('plots/norm.png')"
   ]
  },
  {
   "cell_type": "code",
   "execution_count": 7,
   "metadata": {},
   "outputs": [
    {
     "data": {
      "text/html": [
       "<iframe id=\"igraph\" scrolling=\"no\" style=\"border:none;\" seamless=\"seamless\" src=\"https://plot.ly/~shpotes3/110.embed\" height=\"200px\" width=\"100%\"></iframe>"
      ],
      "text/plain": [
       "<plotly.tools.PlotlyDisplay object>"
      ]
     },
     "execution_count": 7,
     "metadata": {},
     "output_type": "execute_result"
    }
   ],
   "source": [
    "sh = stats.shapiro(df.Returns)\n",
    "ks = stats.kstest(df.Returns, cdf='norm')\n",
    "ad = stats.anderson(df.Returns)\n",
    "da = stats.mstats.normaltest(df.Returns)\n",
    "\n",
    "matrix_dp = [\n",
    "    ['Test Name'             , 'Test Statistic', 'p-value'],\n",
    "    ['Shapiro-Wilk'          , sh[0]           , sh[1]],\n",
    "    ['Kolmogorov-Smirnov'    , ks[0]           , ks[1]],\n",
    "    ['Anderson-Darling'      , ad[0]           , ad[1][2]],\n",
    "    ['D’Agostino and Pearson', da[0]           , da[1]]\n",
    "]\n",
    "\n",
    "table = FF.create_table(matrix_dp, index=True)\n",
    "py.iplot(table)"
   ]
  },
  {
   "cell_type": "code",
   "execution_count": 8,
   "metadata": {},
   "outputs": [
    {
     "data": {
      "image/png": "[encoded data removed]",
      "text/plain": [
       "<Figure size 432x216 with 1 Axes>"
      ]
     },
     "metadata": {},
     "output_type": "display_data"
    }
   ],
   "source": [
    "plot_pacf(df.PX_LAST, lags=20)\n",
    "plt.show()"
   ]
  },
  {
   "cell_type": "code",
   "execution_count": 9,
   "metadata": {},
   "outputs": [
    {
     "name": "stdout",
     "output_type": "stream",
     "text": [
      "0.1726831558229783\n",
      "982.3500833333334\n"
     ]
    }
   ],
   "source": [
    "dt = 1/252 # Datos diarios\n",
    "vsigma = np.sqrt(np.var(df.Returns)/dt)\n",
    "print(vsigma)\n",
    "\n",
    "S0 = df.PX_LAST.mean()\n",
    "print(S0)"
   ]
  },
  {
   "cell_type": "markdown",
   "metadata": {},
   "source": [
    "## Diferencias finitas"
   ]
  },
  {
   "cell_type": "code",
   "execution_count": 10,
   "metadata": {},
   "outputs": [],
   "source": [
    "%load_ext Cython"
   ]
  },
  {
   "cell_type": "code",
   "execution_count": 11,
   "metadata": {},
   "outputs": [],
   "source": [
    "%%cython\n",
    "\n",
    "cimport numpy as np\n",
    "import numpy as np\n",
    "\n",
    "def finite_difference(float r, float sigma, int K, int S_0,\n",
    "                     int F_max, float dS, float T):\n",
    "    \"\"\" Arbitrary Parameters\n",
    "    r     : Tasa de interes libre de riesgo\n",
    "    sigma : Volatilidad\n",
    "    K     : Precio de ejercicio\n",
    "\n",
    "    Initial Conditions\n",
    "    S_0   : Valor de accion en tiempo actual\n",
    "    S_max : Cota superior de la accion\n",
    "    dS    : Tamaño de intervalos del precio\n",
    "    M     : Intervalos del precio\n",
    "    T     : Tiempo de muestreo\n",
    "    N     : Intervalos del tiempo\n",
    "    dT    : Tamaños de intervalos del tiempo\n",
    "    \"\"\"\n",
    "\n",
    "    cdef int S_max = S_0 * F_max\n",
    "    cdef Py_ssize_t M = int(S_max/dS)\n",
    "    cdef float dT_tmp = (dS/(sigma*S_max))**2\n",
    "    cdef Py_ssize_t N = int(np.ceil(T/dT_tmp))\n",
    "    cdef float dT = T/N\n",
    "\n",
    "    # Ponderación\n",
    "    cdef np.ndarray[double] a, b, c, J\n",
    "    a = np.zeros(M+1, dtype=np.float)\n",
    "    b = np.zeros(M+1, dtype=np.float)\n",
    "    c = np.zeros(M+1, dtype=np.float)\n",
    "    J = np.arange(M+1, dtype=np.float)\n",
    "\n",
    "    a = (dT/(1+r*dT)) * ((sigma**2 * J**2)/2 - (r * J/2))\n",
    "    b = (dT/(1+r*dT)) * ((1/dT) - sigma**2 * J**2)\n",
    "    c = (dT/(1+r*dT)) * ((sigma**2 * J**2)/2 + (r * J/2))\n",
    "\n",
    "    cdef np.ndarray[double, ndim=2] F = np.zeros((N+1, M+1))\n",
    "    \n",
    "    # Condiciones de frontera\n",
    "    F[:, 0] = max(-K, 0)\n",
    "    F[N, :] = (J*dS - K).clip(min=0)\n",
    "    F[:, M] = max(S_max - K, 0)\n",
    "\n",
    "    # Llenar Malla\n",
    "    cdef int i, j\n",
    "    cdef bool \n",
    "    for i in range(N-1, -1, -1):\n",
    "        for j in range(1, M):\n",
    "            F[i, j] = a[j] * F[i+1, j-1] + b[j] * F[i+1, j] \\\n",
    "                      + c[j] * F[i+1, j+1]\n",
    "\n",
    "    P = int(S_0/dS)\n",
    "    FF = F[0, P]\n",
    "    return F, FF, P"
   ]
  },
  {
   "cell_type": "code",
   "execution_count": 12,
   "metadata": {},
   "outputs": [],
   "source": [
    "from scipy.stats import norm\n",
    "\n",
    "def blsprice(r, v, K, S, T):\n",
    "    # https://gist.github.com/carljohanrehn/4f20cc0433e10dc1c312\n",
    "    d_1 = 1 / v / np.sqrt(T) * (np.log(S / K) + (r + v ** 2 / 2) * T)\n",
    "    d_2 = d_1 - v * np.sqrt(T)\n",
    "    return norm.cdf(d_1) * S - norm.cdf(d_2) * K * np.exp(-r * T)"
   ]
  },
  {
   "cell_type": "markdown",
   "metadata": {},
   "source": [
    "#### parametros de prueba"
   ]
  },
  {
   "cell_type": "code",
   "execution_count": 13,
   "metadata": {},
   "outputs": [],
   "source": [
    "r = 0.05\n",
    "sigma = 0.7\n",
    "K = 100\n",
    "S_0 = 100\n",
    "F = 2\n",
    "dS = 5\n",
    "dT = 1/12"
   ]
  },
  {
   "cell_type": "code",
   "execution_count": 14,
   "metadata": {},
   "outputs": [],
   "source": [
    "BL = blsprice(r, sigma, K, S_0, dT)"
   ]
  },
  {
   "cell_type": "code",
   "execution_count": null,
   "metadata": {},
   "outputs": [],
   "source": [
    "%%time\n",
    "mesh_1, FF1, P1 = finite_difference(r, sigma, K, S_0, F, 1, dT)\n",
    "mesh_05, FF05, P05 = finite_difference(r, sigma, K, S_0, F, 0.5, dT)\n",
    "mesh_01, FF01, P01 = finite_difference(r, sigma, K, S_0, F, 0.1, dT)\n",
    "mesh_005, FF005, P005 = finite_difference(r, sigma, K, S_0, F, 0.05, dT)\n"
   ]
  },
  {
   "cell_type": "code",
   "execution_count": 51,
   "metadata": {},
   "outputs": [
    {
     "data": {
      "text/plain": [
       "851"
      ]
     },
     "execution_count": 51,
     "metadata": {},
     "output_type": "execute_result"
    }
   ],
   "source": [
    "import gc\n",
    "gc.collect()"
   ]
  },
  {
   "cell_type": "code",
   "execution_count": 54,
   "metadata": {},
   "outputs": [
    {
     "data": {
      "image/png": "[encoded data removed]",
      "text/plain": [
       "<Figure size 432x216 with 1 Axes>"
      ]
     },
     "metadata": {},
     "output_type": "display_data"
    }
   ],
   "source": [
    "plt.plot(mesh_01[-1, :])\n",
    "plt.plot(mesh_05[-1, :])\n",
    "plt.plot(mesh_1[-1, :])\n",
    "plt.show()"
   ]
  },
  {
   "cell_type": "code",
   "execution_count": null,
   "metadata": {},
   "outputs": [],
   "source": []
  }
 ],
 "metadata": {
  "kernelspec": {
   "display_name": "Python 3",
   "language": "python",
   "name": "python3"
  },
  "language_info": {
   "codemirror_mode": {
    "name": "ipython",
    "version": 3
   },
   "file_extension": ".py",
   "mimetype": "text/x-python",
   "name": "python",
   "nbconvert_exporter": "python",
   "pygments_lexer": "ipython3",
   "version": "3.5.2"
  }
 },
 "nbformat": 4,
 "nbformat_minor": 2
}
